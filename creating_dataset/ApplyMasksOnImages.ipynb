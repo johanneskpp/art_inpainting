{
 "cells": [
  {
   "cell_type": "code",
   "execution_count": null,
   "id": "6169f2a8",
   "metadata": {},
   "outputs": [],
   "source": [
    "import cv2\n",
    "import numpy as np\n",
    "import random\n",
    "import os"
   ]
  },
  {
   "cell_type": "markdown",
   "id": "d65fab03-e4a9-4016-9bf6-253fb0cb7e4e",
   "metadata": {},
   "source": [
    "# 01 apply masks randomly on images from artbench dataset"
   ]
  },
  {
   "cell_type": "markdown",
   "id": "27336d56-912b-496f-874e-c482da90934a",
   "metadata": {},
   "source": [
    "## a) function to apply masks on images"
   ]
  },
  {
   "cell_type": "code",
   "execution_count": null,
   "id": "09fa64f4",
   "metadata": {},
   "outputs": [],
   "source": [
    "'''\n",
    "applies mask on image\n",
    "defect color is randomly chosen or chosen by image brightness\n",
    "'''\n",
    "def apply_mask(mask, img, random_color=False):\n",
    "    mask = mask.astype(np.float64)\n",
    "    mask /= 255\n",
    "    defect_color = 1\n",
    "    if random_color:\n",
    "        defect_color = random.randrange(2)\n",
    "    else:\n",
    "        color_sum = np.sum(img)\n",
    "        if color_sum > ((img.shape[0]*img.shape[1]*img.shape[2]*255)/2):\n",
    "            defect_color = 1\n",
    "        else:\n",
    "            defect_color = 0\n",
    "    \n",
    "    defect_color *= 255\n",
    "    img_defected = img * (1 - mask) + defect_color * mask\n",
    "    \n",
    "    return img_defected"
   ]
  },
  {
   "cell_type": "markdown",
   "id": "c492c705-4191-49fc-a441-c445380db540",
   "metadata": {},
   "source": [
    "## b) iterate over folder and apply masks"
   ]
  },
  {
   "cell_type": "code",
   "execution_count": null,
   "id": "532564a2",
   "metadata": {},
   "outputs": [],
   "source": [
    "mask_files = list(os.listdir(\"defect_masks_gen/\"))\n",
    "image_filepath = \"artbench-10-imagefolder/\"\n",
    "num_masks = 2300\n",
    "\n",
    "for folder in os.listdir(image_filepath):\n",
    "    p = os.path.join(image_filepath, folder)\n",
    "    nep = os.path.join(\"dataset/\", folder)\n",
    "    c = 0\n",
    "    if not folder.startswith(\".\"):\n",
    "        for file in os.listdir(p):\n",
    "            path = os.path.join(p, file)\n",
    "            new_filename = file[:-4] + \"_img.png\"\n",
    "            new_mskname = file[:-4] + \"_msk.png\"\n",
    "            new_orifilename = file[:-4] + \"_ori.png\"\n",
    "            new_filename = os.path.join(nep, new_filename)\n",
    "            new_mskname = os.path.join(nep, new_mskname)\n",
    "            new_orifilename = os.path.join(nep, new_orifilename)\n",
    "            new_path = os.path.join(nep, new_filename)\n",
    "            img = cv2.imread(path)\n",
    "            mask_nr = random.randrange(num_masks)\n",
    "            mask_path = os.path.join(\"defect_masks_gen/\", \"mask_{}.png\".format(str(mask_nr).zfill(4)))\n",
    "            mask = cv2.imread(mask_path)\n",
    "            defected_image = apply_mask(mask, img)\n",
    "            print(\"{} : {}/6000  \".format(folder, c+1), end='\\x1b[1K\\r')\n",
    "            cv2.imwrite(new_orifilename, img)\n",
    "            cv2.imwrite(new_filename, defected_image)\n",
    "            cv2.imwrite(new_mskname, mask)\n",
    "            c += 1"
   ]
  },
  {
   "cell_type": "code",
   "execution_count": null,
   "id": "3675dd43",
   "metadata": {},
   "outputs": [],
   "source": []
  }
 ],
 "metadata": {
  "kernelspec": {
   "display_name": "Python 3 (ipykernel)",
   "language": "python",
   "name": "python3"
  },
  "language_info": {
   "codemirror_mode": {
    "name": "ipython",
    "version": 3
   },
   "file_extension": ".py",
   "mimetype": "text/x-python",
   "name": "python",
   "nbconvert_exporter": "python",
   "pygments_lexer": "ipython3",
   "version": "3.10.6"
  }
 },
 "nbformat": 4,
 "nbformat_minor": 5
}
