{
 "cells": [
  {
   "cell_type": "code",
   "execution_count": null,
   "id": "de21e585-9665-41c8-a6da-09ab8820ff24",
   "metadata": {},
   "outputs": [],
   "source": [
    "import glob\n",
    "import os\n",
    "import random\n",
    "import shutil"
   ]
  },
  {
   "cell_type": "markdown",
   "id": "831af57e-255a-47c9-ab5a-78a3de019dc6",
   "metadata": {},
   "source": [
    "# 01 Sort images by type"
   ]
  },
  {
   "cell_type": "code",
   "execution_count": null,
   "id": "77ec1edf-e634-420b-a69f-3484cf84a088",
   "metadata": {},
   "outputs": [],
   "source": [
    "os.makedirs(\"dataset_sorted/\", exist_ok=True)\n",
    "os.makedirs(\"dataset_sorted/img/\", exist_ok=True)\n",
    "os.makedirs(\"dataset_sorted/ori/\", exist_ok=True)\n",
    "os.makedirs(\"dataset_sorted/msk/\", exist_ok=True)"
   ]
  },
  {
   "cell_type": "code",
   "execution_count": null,
   "id": "cd3c4646-1961-4dd5-b351-b5f8d76c2bbe",
   "metadata": {},
   "outputs": [],
   "source": [
    "for file_path in glob.glob(\"dataset/*/*_img.png\")[:200]:\n",
    "    msk_path = file_path.replace(\"_img.png\", \"_msk.png\")\n",
    "    ori_path = file_path.replace(\"_img.png\", \"_ori.png\")\n",
    "\n",
    "    new_file_path = os.path.join(\"dataset_sorted/img/\", file_path.split(\"/\")[-1].replace(\"_img.png\", \".png\"))\n",
    "    new_msk_path = os.path.join(\"dataset_sorted/msk/\", msk_path.split(\"/\")[-1].replace(\"_msk.png\", \".png\"))\n",
    "    new_ori_path = os.path.join(\"dataset_sorted/ori/\", ori_path.split(\"/\")[-1].replace(\"_ori.png\", \".png\"))\n",
    "\n",
    "    os.rename(file_path, new_file_path)\n",
    "    os.rename(msk_path, new_msk_path)\n",
    "    os.rename(ori_path, new_ori_path)"
   ]
  },
  {
   "cell_type": "markdown",
   "id": "f4496a03-f644-4f61-95e6-1a46844e3e0a",
   "metadata": {},
   "source": [
    "# 02 split dataset"
   ]
  },
  {
   "cell_type": "code",
   "execution_count": null,
   "id": "a7bb0918-7b08-4add-b498-fc370b096642",
   "metadata": {},
   "outputs": [],
   "source": [
    "os.makedirs(\"dataset_sorted_splitted/\", exist_ok=True)\n",
    "os.makedirs(\"dataset_sorted_splitted/img/train/\", exist_ok=True)\n",
    "os.makedirs(\"dataset_sorted_splitted/img/test/\", exist_ok=True)\n",
    "os.makedirs(\"dataset_sorted_splitted/img/val/\", exist_ok=True)\n",
    "os.makedirs(\"dataset_sorted_splitted/ori/train/\", exist_ok=True)\n",
    "os.makedirs(\"dataset_sorted_splitted/ori/test/\", exist_ok=True)\n",
    "os.makedirs(\"dataset_sorted_splitted/ori/val/\", exist_ok=True)\n",
    "os.makedirs(\"dataset_sorted_splitted/msk/train/\", exist_ok=True)\n",
    "os.makedirs(\"dataset_sorted_splitted/msk/test/\", exist_ok=True)\n",
    "os.makedirs(\"dataset_sorted_splitted/msk/train/\", exist_ok=True)"
   ]
  },
  {
   "cell_type": "code",
   "execution_count": null,
   "id": "bbf984e6-a48c-404e-9a68-47bf53187cd7",
   "metadata": {},
   "outputs": [],
   "source": [
    "filelist = glob.glob(\"dataset_sorted/img/*.png\")\n",
    "len_filelist = len(filelist)\n",
    "size_train = int(0.7*len_filelist)\n",
    "size_val = int(0.9*len_filelist)"
   ]
  },
  {
   "cell_type": "code",
   "execution_count": null,
   "id": "c4757d02-6909-4e51-b60d-e0aa783e79d0",
   "metadata": {},
   "outputs": [],
   "source": [
    "random.shuffle(filelist)"
   ]
  },
  {
   "cell_type": "code",
   "execution_count": null,
   "id": "b0906f3f-2366-4bdd-96a1-dccd3dc5856a",
   "metadata": {},
   "outputs": [],
   "source": [
    "i = 0\n",
    "for imgfile in filelist:\n",
    "    msk_file = imgfile.replace(\"/img/\", \"/msk/\")\n",
    "    ori_file = imgfile.replace(\"/img/\", \"/ori/\")\n",
    "\n",
    "    if i < size_train:\n",
    "        shutil.copy(imgfile, os.path.join(\"dataset_sorted_splitted/img/train/\", imgfile.split(\"/\")[-1]))\n",
    "        shutil.copy(msk_file, os.path.join(\"dataset_sorted_splitted/msk/train/\", msk_file.split(\"/\")[-1]))\n",
    "        shutil.copy(ori_file, os.path.join(\"dataset_sorted_splitted/ori/train/\", ori_file.split(\"/\")[-1]))\n",
    "    elif i < size_val:\n",
    "        shutil.copy(imgfile, os.path.join(\"dataset_sorted_splitted/img/val/\", imgfile.split(\"/\")[-1]))\n",
    "        shutil.copy(msk_file, os.path.join(\"dataset_sorted_splitted/msk/val/\", msk_file.split(\"/\")[-1]))\n",
    "        shutil.copy(ori_file, os.path.join(\"dataset_sorted_splitted/ori/val/\", ori_file.split(\"/\")[-1]))\n",
    "    else:\n",
    "        shutil.copy(imgfile, os.path.join(\"dataset_sorted_splitted/img/test/\", imgfile.split(\"/\")[-1]))\n",
    "        shutil.copy(msk_file, os.path.join(\"dataset_sorted_splitted/msk/test/\", msk_file.split(\"/\")[-1]))\n",
    "        shutil.copy(ori_file, os.path.join(\"dataset_sorted_splitted/ori/test/\", ori_file.split(\"/\")[-1]))"
   ]
  }
 ],
 "metadata": {
  "kernelspec": {
   "display_name": "Python 3 (ipykernel)",
   "language": "python",
   "name": "python3"
  },
  "language_info": {
   "codemirror_mode": {
    "name": "ipython",
    "version": 3
   },
   "file_extension": ".py",
   "mimetype": "text/x-python",
   "name": "python",
   "nbconvert_exporter": "python",
   "pygments_lexer": "ipython3",
   "version": "3.10.6"
  }
 },
 "nbformat": 4,
 "nbformat_minor": 5
}
