{
 "cells": [
  {
   "cell_type": "code",
   "execution_count": 3,
   "id": "47460495-d543-439e-a996-bc19ace0ebd3",
   "metadata": {},
   "outputs": [],
   "source": [
    "import pandas as pd\n",
    "import os\n",
    "import glob"
   ]
  },
  {
   "cell_type": "markdown",
   "id": "bb220588-d8f4-425d-9c94-c69beba3902b",
   "metadata": {},
   "source": [
    "# 01 create metadata"
   ]
  },
  {
   "cell_type": "markdown",
   "id": "48672b16-9547-4adb-bc28-fef66b126997",
   "metadata": {},
   "source": [
    "## a) test_dataset"
   ]
  },
  {
   "cell_type": "code",
   "execution_count": 13,
   "id": "c9953668-e235-4215-b816-b2385d20359a",
   "metadata": {},
   "outputs": [],
   "source": [
    "metadata_list = []\n",
    "\n",
    "metadata_list.append([\"file_name\", \"text\"])"
   ]
  },
  {
   "cell_type": "code",
   "execution_count": 14,
   "id": "56d9131b-6123-44e9-9cfe-1f2df782f90f",
   "metadata": {},
   "outputs": [],
   "source": [
    "for filename in os.listdir(\"art_defect_inpainting/test/\"):\n",
    "    if filename not in [\"metadata.csv\", \".DS_Store\"]:\n",
    "        description = filename.replace(\".png\", \"\").replace(\"-\", \" \").replace(\"_\", \" \").strip()\n",
    "        metadata_list.append([filename, description])"
   ]
  },
  {
   "cell_type": "code",
   "execution_count": 15,
   "id": "1ce4f252-d4de-4b4a-a2f3-f21f07ba2c98",
   "metadata": {},
   "outputs": [
    {
     "data": {
      "text/plain": [
       "286"
      ]
     },
     "execution_count": 15,
     "metadata": {},
     "output_type": "execute_result"
    }
   ],
   "source": [
    "len(metadata_list)"
   ]
  },
  {
   "cell_type": "code",
   "execution_count": 16,
   "id": "b8c46c2e-e168-4550-8be8-55451b7f4ad9",
   "metadata": {},
   "outputs": [],
   "source": [
    "pd.DataFrame(metadata_list).to_csv(\"art_defect_inpainting/test/metadata.csv\", index=False, header=None)"
   ]
  },
  {
   "cell_type": "markdown",
   "id": "f69349f2-9d53-4e57-a185-8d0a2cbace9a",
   "metadata": {},
   "source": [
    "## b) valid_dataset"
   ]
  },
  {
   "cell_type": "code",
   "execution_count": 111,
   "id": "d5d8cc24-5a06-4336-bc3e-69fe44e89ef4",
   "metadata": {},
   "outputs": [],
   "source": [
    "metadata_list = []\n",
    "\n",
    "metadata_list.append([\"file_name\", \"text\"])"
   ]
  },
  {
   "cell_type": "code",
   "execution_count": 112,
   "id": "3fef8785-0b05-433e-93ba-1e1e1ce15ac4",
   "metadata": {},
   "outputs": [],
   "source": [
    "for filename in os.listdir(\"art_defect_inpainting/valid/\"):\n",
    "    if filename not in [\"metadata.csv\", \".DS_Store\"]:\n",
    "        description = filename.replace(\".png\", \"\").replace(\"-\", \" \").replace(\"_\", \" \").strip()\n",
    "        metadata_list.append([filename, description])"
   ]
  },
  {
   "cell_type": "code",
   "execution_count": 113,
   "id": "bdd577d8-8dc8-4ee0-8d77-4052818d261d",
   "metadata": {},
   "outputs": [
    {
     "data": {
      "text/plain": [
       "287"
      ]
     },
     "execution_count": 113,
     "metadata": {},
     "output_type": "execute_result"
    }
   ],
   "source": [
    "len(metadata_list)"
   ]
  },
  {
   "cell_type": "code",
   "execution_count": 114,
   "id": "be6a83ac-40fb-43bd-8d1e-0d6116415f5e",
   "metadata": {},
   "outputs": [],
   "source": [
    "pd.DataFrame(metadata_list).to_csv(\"art_defect_inpainting/valid/metadata.csv\", index=False, header=None)"
   ]
  },
  {
   "cell_type": "markdown",
   "id": "e8174a58-701b-456b-9158-163a9483871f",
   "metadata": {},
   "source": [
    "## c) train_dataset"
   ]
  },
  {
   "cell_type": "code",
   "execution_count": 111,
   "id": "56fc59da-c48e-4803-a823-077b2eaa7ff2",
   "metadata": {},
   "outputs": [],
   "source": [
    "metadata_list = []\n",
    "\n",
    "metadata_list.append([\"file_name\", \"text\"])"
   ]
  },
  {
   "cell_type": "code",
   "execution_count": 112,
   "id": "03187350-4f0f-497c-a2be-c4d9350d0e2b",
   "metadata": {},
   "outputs": [],
   "source": [
    "for filename in os.listdir(\"art_defect_inpainting/train/\"):\n",
    "    if filename not in [\"metadata.csv\", \".DS_Store\"]:\n",
    "        description = filename.replace(\".png\", \"\").replace(\"-\", \" \").replace(\"_\", \" \").strip()\n",
    "        metadata_list.append([filename, description])"
   ]
  },
  {
   "cell_type": "code",
   "execution_count": 113,
   "id": "493c32d5-081b-47f4-8781-8a0fda13b645",
   "metadata": {},
   "outputs": [
    {
     "data": {
      "text/plain": [
       "287"
      ]
     },
     "execution_count": 113,
     "metadata": {},
     "output_type": "execute_result"
    }
   ],
   "source": [
    "len(metadata_list)"
   ]
  },
  {
   "cell_type": "code",
   "execution_count": 114,
   "id": "2d1658cb-f665-4fed-8205-d70eecd9179e",
   "metadata": {},
   "outputs": [],
   "source": [
    "pd.DataFrame(metadata_list).to_csv(\"art_defect_inpainting/train/metadata.csv\", index=False, header=None)"
   ]
  },
  {
   "cell_type": "markdown",
   "id": "f140b67c-379a-4e46-b78d-6c3124204897",
   "metadata": {},
   "source": [
    "# 02 upload dataset to huggingface hub"
   ]
  },
  {
   "cell_type": "code",
   "execution_count": 1,
   "id": "4b5f9ff3-bb49-4a80-819a-47bcca50c88e",
   "metadata": {},
   "outputs": [
    {
     "data": {
      "application/vnd.jupyter.widget-view+json": {
       "model_id": "8eeac9e6841a48b0bcaba9612b47f380",
       "version_major": 2,
       "version_minor": 0
      },
      "text/plain": [
       "Resolving data files:   0%|          | 0/2003 [00:00<?, ?it/s]"
      ]
     },
     "metadata": {},
     "output_type": "display_data"
    },
    {
     "data": {
      "application/vnd.jupyter.widget-view+json": {
       "model_id": "ed9da7cbacc54c1598532a0bcf4f5134",
       "version_major": 2,
       "version_minor": 0
      },
      "text/plain": [
       "Resolving data files:   0%|          | 0/571 [00:00<?, ?it/s]"
      ]
     },
     "metadata": {},
     "output_type": "display_data"
    },
    {
     "data": {
      "application/vnd.jupyter.widget-view+json": {
       "model_id": "aa553925b47842e583624903e93d1a4b",
       "version_major": 2,
       "version_minor": 0
      },
      "text/plain": [
       "Resolving data files:   0%|          | 0/286 [00:00<?, ?it/s]"
      ]
     },
     "metadata": {},
     "output_type": "display_data"
    },
    {
     "data": {
      "application/vnd.jupyter.widget-view+json": {
       "model_id": "cf35a05a415347e7a19fd98672cc5d76",
       "version_major": 2,
       "version_minor": 0
      },
      "text/plain": [
       "Downloading data files:   0%|          | 0/2006 [00:00<?, ?it/s]"
      ]
     },
     "metadata": {},
     "output_type": "display_data"
    },
    {
     "data": {
      "application/vnd.jupyter.widget-view+json": {
       "model_id": "20a1328afa664e67b03491ecc55c23d7",
       "version_major": 2,
       "version_minor": 0
      },
      "text/plain": [
       "Downloading data files: 0it [00:00, ?it/s]"
      ]
     },
     "metadata": {},
     "output_type": "display_data"
    },
    {
     "data": {
      "application/vnd.jupyter.widget-view+json": {
       "model_id": "453ad8991d15427089152ebca463d9e6",
       "version_major": 2,
       "version_minor": 0
      },
      "text/plain": [
       "Extracting data files: 0it [00:00, ?it/s]"
      ]
     },
     "metadata": {},
     "output_type": "display_data"
    },
    {
     "data": {
      "application/vnd.jupyter.widget-view+json": {
       "model_id": "0980863bcbe041e5af1043d46fde3144",
       "version_major": 2,
       "version_minor": 0
      },
      "text/plain": [
       "Downloading data files:   0%|          | 0/574 [00:00<?, ?it/s]"
      ]
     },
     "metadata": {},
     "output_type": "display_data"
    },
    {
     "data": {
      "application/vnd.jupyter.widget-view+json": {
       "model_id": "7ad516668f43468aaec2136423c969c7",
       "version_major": 2,
       "version_minor": 0
      },
      "text/plain": [
       "Downloading data files: 0it [00:00, ?it/s]"
      ]
     },
     "metadata": {},
     "output_type": "display_data"
    },
    {
     "data": {
      "application/vnd.jupyter.widget-view+json": {
       "model_id": "9e0c636b1a474409b4a8743bd5ff5316",
       "version_major": 2,
       "version_minor": 0
      },
      "text/plain": [
       "Extracting data files: 0it [00:00, ?it/s]"
      ]
     },
     "metadata": {},
     "output_type": "display_data"
    },
    {
     "data": {
      "application/vnd.jupyter.widget-view+json": {
       "model_id": "34ea48502f20435ba057cfa44be47c24",
       "version_major": 2,
       "version_minor": 0
      },
      "text/plain": [
       "Downloading data files:   0%|          | 0/289 [00:00<?, ?it/s]"
      ]
     },
     "metadata": {},
     "output_type": "display_data"
    },
    {
     "data": {
      "application/vnd.jupyter.widget-view+json": {
       "model_id": "b2a26bd23a9d437ca10d12af054936c4",
       "version_major": 2,
       "version_minor": 0
      },
      "text/plain": [
       "Downloading data files: 0it [00:00, ?it/s]"
      ]
     },
     "metadata": {},
     "output_type": "display_data"
    },
    {
     "data": {
      "application/vnd.jupyter.widget-view+json": {
       "model_id": "559fc34b661841948eb54232ef57d1d2",
       "version_major": 2,
       "version_minor": 0
      },
      "text/plain": [
       "Extracting data files: 0it [00:00, ?it/s]"
      ]
     },
     "metadata": {},
     "output_type": "display_data"
    },
    {
     "data": {
      "application/vnd.jupyter.widget-view+json": {
       "model_id": "b6b9d3b370d6485c85f393359e00ebfd",
       "version_major": 2,
       "version_minor": 0
      },
      "text/plain": [
       "Generating train split: 0 examples [00:00, ? examples/s]"
      ]
     },
     "metadata": {},
     "output_type": "display_data"
    },
    {
     "data": {
      "application/vnd.jupyter.widget-view+json": {
       "model_id": "f9e274e00b6d40ffac4d2e857417bff1",
       "version_major": 2,
       "version_minor": 0
      },
      "text/plain": [
       "Generating validation split: 0 examples [00:00, ? examples/s]"
      ]
     },
     "metadata": {},
     "output_type": "display_data"
    },
    {
     "data": {
      "application/vnd.jupyter.widget-view+json": {
       "model_id": "ff6456c9cf124329b3520f5a46818bc6",
       "version_major": 2,
       "version_minor": 0
      },
      "text/plain": [
       "Generating test split: 0 examples [00:00, ? examples/s]"
      ]
     },
     "metadata": {},
     "output_type": "display_data"
    },
    {
     "name": "stdout",
     "output_type": "stream",
     "text": [
      "{'image': <PIL.PngImagePlugin.PngImageFile image mode=RGB size=256x256 at 0x11C71D450>, 'text': 'a y jackson first snow algoma country'}\n"
     ]
    }
   ],
   "source": [
    "from datasets import load_dataset\n",
    "\n",
    "dataset = load_dataset(\"imagefolder\", data_dir=\"art_defect_inpainting/\")"
   ]
  },
  {
   "cell_type": "code",
   "execution_count": 2,
   "id": "bfba927f-a4cc-4ce1-8b4c-0999dab7aba2",
   "metadata": {},
   "outputs": [
    {
     "data": {
      "application/vnd.jupyter.widget-view+json": {
       "model_id": "d2b1a713598142dcbbcb952bb789feb5",
       "version_major": 2,
       "version_minor": 0
      },
      "text/plain": [
       "Map:   0%|          | 0/2002 [00:00<?, ? examples/s]"
      ]
     },
     "metadata": {},
     "output_type": "display_data"
    },
    {
     "data": {
      "application/vnd.jupyter.widget-view+json": {
       "model_id": "e44d2f63a6174ad7bce68e5029e92821",
       "version_major": 2,
       "version_minor": 0
      },
      "text/plain": [
       "Pushing dataset shards to the dataset hub:   0%|          | 0/1 [00:00<?, ?it/s]"
      ]
     },
     "metadata": {},
     "output_type": "display_data"
    },
    {
     "data": {
      "application/vnd.jupyter.widget-view+json": {
       "model_id": "e231092bc3c447e5971f6ef446830c9e",
       "version_major": 2,
       "version_minor": 0
      },
      "text/plain": [
       "Creating parquet from Arrow format:   0%|          | 0/21 [00:00<?, ?ba/s]"
      ]
     },
     "metadata": {},
     "output_type": "display_data"
    },
    {
     "data": {
      "application/vnd.jupyter.widget-view+json": {
       "model_id": "903653fa6f2d4b6ba0bd98612c2da081",
       "version_major": 2,
       "version_minor": 0
      },
      "text/plain": [
       "Map:   0%|          | 0/570 [00:00<?, ? examples/s]"
      ]
     },
     "metadata": {},
     "output_type": "display_data"
    },
    {
     "data": {
      "application/vnd.jupyter.widget-view+json": {
       "model_id": "85be310855cf4d30a48faffa508d5152",
       "version_major": 2,
       "version_minor": 0
      },
      "text/plain": [
       "Pushing dataset shards to the dataset hub:   0%|          | 0/1 [00:00<?, ?it/s]"
      ]
     },
     "metadata": {},
     "output_type": "display_data"
    },
    {
     "data": {
      "application/vnd.jupyter.widget-view+json": {
       "model_id": "766611eead204309ad1358480657ee3b",
       "version_major": 2,
       "version_minor": 0
      },
      "text/plain": [
       "Creating parquet from Arrow format:   0%|          | 0/6 [00:00<?, ?ba/s]"
      ]
     },
     "metadata": {},
     "output_type": "display_data"
    },
    {
     "data": {
      "application/vnd.jupyter.widget-view+json": {
       "model_id": "375281fc9fa64985b39bb4e17e774bd0",
       "version_major": 2,
       "version_minor": 0
      },
      "text/plain": [
       "Map:   0%|          | 0/285 [00:00<?, ? examples/s]"
      ]
     },
     "metadata": {},
     "output_type": "display_data"
    },
    {
     "data": {
      "application/vnd.jupyter.widget-view+json": {
       "model_id": "6ebe4060a47a4c15a83973ec63017eba",
       "version_major": 2,
       "version_minor": 0
      },
      "text/plain": [
       "Pushing dataset shards to the dataset hub:   0%|          | 0/1 [00:00<?, ?it/s]"
      ]
     },
     "metadata": {},
     "output_type": "display_data"
    },
    {
     "data": {
      "application/vnd.jupyter.widget-view+json": {
       "model_id": "e3d5ce891d1d4fb1896c1db279c151ab",
       "version_major": 2,
       "version_minor": 0
      },
      "text/plain": [
       "Creating parquet from Arrow format:   0%|          | 0/3 [00:00<?, ?ba/s]"
      ]
     },
     "metadata": {},
     "output_type": "display_data"
    }
   ],
   "source": [
    "dataset.push_to_hub(\"johanneskpp/art_defect_inpainting\")"
   ]
  }
 ],
 "metadata": {
  "kernelspec": {
   "display_name": "Python 3 (ipykernel)",
   "language": "python",
   "name": "python3"
  },
  "language_info": {
   "codemirror_mode": {
    "name": "ipython",
    "version": 3
   },
   "file_extension": ".py",
   "mimetype": "text/x-python",
   "name": "python",
   "nbconvert_exporter": "python",
   "pygments_lexer": "ipython3",
   "version": "3.10.6"
  }
 },
 "nbformat": 4,
 "nbformat_minor": 5
}
