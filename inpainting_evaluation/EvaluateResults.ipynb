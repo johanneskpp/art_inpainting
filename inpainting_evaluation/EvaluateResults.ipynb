{
 "cells": [
  {
   "cell_type": "markdown",
   "id": "b043a4b3-1cd3-4e1d-a2eb-895077be940b",
   "metadata": {},
   "source": [
    "# 01 install requirements"
   ]
  },
  {
   "cell_type": "code",
   "execution_count": 1,
   "id": "4f534a18-2028-4d9f-8b64-5488ffaf53a6",
   "metadata": {},
   "outputs": [
    {
     "name": "stdout",
     "output_type": "stream",
     "text": [
      "Requirement already satisfied: torch in /Users/johanneskoppe/.pyenv/versions/3.10.6/lib/python3.10/site-packages (2.0.1)\n",
      "Requirement already satisfied: jinja2 in /Users/johanneskoppe/.pyenv/versions/3.10.6/lib/python3.10/site-packages (from torch) (3.1.2)\n",
      "Requirement already satisfied: networkx in /Users/johanneskoppe/.pyenv/versions/3.10.6/lib/python3.10/site-packages (from torch) (3.1)\n",
      "Requirement already satisfied: filelock in /Users/johanneskoppe/.pyenv/versions/3.10.6/lib/python3.10/site-packages (from torch) (3.12.2)\n",
      "Requirement already satisfied: sympy in /Users/johanneskoppe/.pyenv/versions/3.10.6/lib/python3.10/site-packages (from torch) (1.12)\n",
      "Requirement already satisfied: typing-extensions in /Users/johanneskoppe/.pyenv/versions/3.10.6/lib/python3.10/site-packages (from torch) (4.5.0)\n",
      "Requirement already satisfied: MarkupSafe>=2.0 in /Users/johanneskoppe/.pyenv/versions/3.10.6/lib/python3.10/site-packages (from jinja2->torch) (2.1.3)\n",
      "Requirement already satisfied: mpmath>=0.19 in /Users/johanneskoppe/.pyenv/versions/3.10.6/lib/python3.10/site-packages (from sympy->torch) (1.3.0)\n",
      "\n",
      "\u001b[1m[\u001b[0m\u001b[34;49mnotice\u001b[0m\u001b[1;39;49m]\u001b[0m\u001b[39;49m A new release of pip available: \u001b[0m\u001b[31;49m22.2.1\u001b[0m\u001b[39;49m -> \u001b[0m\u001b[32;49m23.2.1\u001b[0m\n",
      "\u001b[1m[\u001b[0m\u001b[34;49mnotice\u001b[0m\u001b[1;39;49m]\u001b[0m\u001b[39;49m To update, run: \u001b[0m\u001b[32;49mpip install --upgrade pip\u001b[0m\n",
      "Requirement already satisfied: piq in /Users/johanneskoppe/.pyenv/versions/3.10.6/lib/python3.10/site-packages (0.8.0)\n",
      "Requirement already satisfied: torchvision>=0.10.0 in /Users/johanneskoppe/.pyenv/versions/3.10.6/lib/python3.10/site-packages (from piq) (0.15.2)\n",
      "Requirement already satisfied: torch==2.0.1 in /Users/johanneskoppe/.pyenv/versions/3.10.6/lib/python3.10/site-packages (from torchvision>=0.10.0->piq) (2.0.1)\n",
      "Requirement already satisfied: numpy in /Users/johanneskoppe/.pyenv/versions/3.10.6/lib/python3.10/site-packages (from torchvision>=0.10.0->piq) (1.23.5)\n",
      "Requirement already satisfied: pillow!=8.3.*,>=5.3.0 in /Users/johanneskoppe/.pyenv/versions/3.10.6/lib/python3.10/site-packages (from torchvision>=0.10.0->piq) (9.4.0)\n",
      "Requirement already satisfied: requests in /Users/johanneskoppe/.pyenv/versions/3.10.6/lib/python3.10/site-packages (from torchvision>=0.10.0->piq) (2.28.2)\n",
      "Requirement already satisfied: filelock in /Users/johanneskoppe/.pyenv/versions/3.10.6/lib/python3.10/site-packages (from torch==2.0.1->torchvision>=0.10.0->piq) (3.12.2)\n",
      "Requirement already satisfied: jinja2 in /Users/johanneskoppe/.pyenv/versions/3.10.6/lib/python3.10/site-packages (from torch==2.0.1->torchvision>=0.10.0->piq) (3.1.2)\n",
      "Requirement already satisfied: networkx in /Users/johanneskoppe/.pyenv/versions/3.10.6/lib/python3.10/site-packages (from torch==2.0.1->torchvision>=0.10.0->piq) (3.1)\n",
      "Requirement already satisfied: typing-extensions in /Users/johanneskoppe/.pyenv/versions/3.10.6/lib/python3.10/site-packages (from torch==2.0.1->torchvision>=0.10.0->piq) (4.5.0)\n",
      "Requirement already satisfied: sympy in /Users/johanneskoppe/.pyenv/versions/3.10.6/lib/python3.10/site-packages (from torch==2.0.1->torchvision>=0.10.0->piq) (1.12)\n",
      "Requirement already satisfied: urllib3<1.27,>=1.21.1 in /Users/johanneskoppe/.pyenv/versions/3.10.6/lib/python3.10/site-packages (from requests->torchvision>=0.10.0->piq) (1.26.16)\n",
      "Requirement already satisfied: charset-normalizer<4,>=2 in /Users/johanneskoppe/.pyenv/versions/3.10.6/lib/python3.10/site-packages (from requests->torchvision>=0.10.0->piq) (3.2.0)\n",
      "Requirement already satisfied: certifi>=2017.4.17 in /Users/johanneskoppe/.pyenv/versions/3.10.6/lib/python3.10/site-packages (from requests->torchvision>=0.10.0->piq) (2023.7.22)\n",
      "Requirement already satisfied: idna<4,>=2.5 in /Users/johanneskoppe/.pyenv/versions/3.10.6/lib/python3.10/site-packages (from requests->torchvision>=0.10.0->piq) (3.4)\n",
      "Requirement already satisfied: MarkupSafe>=2.0 in /Users/johanneskoppe/.pyenv/versions/3.10.6/lib/python3.10/site-packages (from jinja2->torch==2.0.1->torchvision>=0.10.0->piq) (2.1.3)\n",
      "Requirement already satisfied: mpmath>=0.19 in /Users/johanneskoppe/.pyenv/versions/3.10.6/lib/python3.10/site-packages (from sympy->torch==2.0.1->torchvision>=0.10.0->piq) (1.3.0)\n",
      "\n",
      "\u001b[1m[\u001b[0m\u001b[34;49mnotice\u001b[0m\u001b[1;39;49m]\u001b[0m\u001b[39;49m A new release of pip available: \u001b[0m\u001b[31;49m22.2.1\u001b[0m\u001b[39;49m -> \u001b[0m\u001b[32;49m23.2.1\u001b[0m\n",
      "\u001b[1m[\u001b[0m\u001b[34;49mnotice\u001b[0m\u001b[1;39;49m]\u001b[0m\u001b[39;49m To update, run: \u001b[0m\u001b[32;49mpip install --upgrade pip\u001b[0m\n"
     ]
    }
   ],
   "source": [
    "!pip install torch\n",
    "!pip install piq"
   ]
  },
  {
   "cell_type": "markdown",
   "id": "7145a521-e372-4600-b74b-47e212d10219",
   "metadata": {},
   "source": [
    "# 02 evaluate results of inpainting by metrics from [github/Inpainting-Evaluation-Metrics](https://github.com/SayedNadim/Inpainting-Evaluation-Metrics)"
   ]
  },
  {
   "cell_type": "markdown",
   "id": "e865356e-131d-43ee-8ad2-92b300bc5ce2",
   "metadata": {},
   "source": [
    "## a) evaluate Global&Local"
   ]
  },
  {
   "cell_type": "code",
   "execution_count": 9,
   "id": "db5287c5-c527-41cc-b345-eb1d6177daac",
   "metadata": {},
   "outputs": [
    {
     "name": "stdout",
     "output_type": "stream",
     "text": [
      "===> Loading datasets\n",
      "Total instance number: 285\n",
      "===> Loaded datasets\n",
      "Calculating image quality metrics ...\n",
      "Avg. SSIM: 0.861401379108429 \n",
      "Avg. PSNR: 23.71260643005371 \n",
      "Avg. L1: 0.028049763292074203 \n",
      "Avg. L2: 0.009527566842734814 \n",
      "\n",
      "285\n",
      "Average processing time for each image (of total 285 images): 0.1205119392328095 s\n"
     ]
    }
   ],
   "source": [
    "!python Inpainting-Evaluation-Metrics/main.py --input_path results/res_global_local/test --gt_path gt"
   ]
  },
  {
   "cell_type": "markdown",
   "id": "b9b47c0a-c608-4de8-b996-c3534ffeee53",
   "metadata": {},
   "source": [
    "## b) evaluate DeepFillv1"
   ]
  },
  {
   "cell_type": "code",
   "execution_count": 10,
   "id": "a7ce695b-71af-48e0-8fa4-4d5483212aca",
   "metadata": {
    "scrolled": true
   },
   "outputs": [
    {
     "name": "stdout",
     "output_type": "stream",
     "text": [
      "===> Loading datasets\n",
      "Total instance number: 285\n",
      "===> Loaded datasets\n",
      "Calculating image quality metrics ...\n",
      "Avg. SSIM: 0.8925038576126099 \n",
      "Avg. PSNR: 27.243614196777344 \n",
      "Avg. L1: 0.020974883809685707 \n",
      "Avg. L2: 0.005562386009842157 \n",
      "\n",
      "285\n",
      "Average processing time for each image (of total 285 images): 0.11971263132597271 s\n"
     ]
    }
   ],
   "source": [
    "!python Inpainting-Evaluation-Metrics/main.py --input_path results/res_deepfillv1/test/ --gt_path gt/"
   ]
  },
  {
   "cell_type": "markdown",
   "id": "df50d08c-1036-42af-a363-4a7b6adf3fbc",
   "metadata": {},
   "source": [
    "## c) evaluate PartialConv"
   ]
  },
  {
   "cell_type": "code",
   "execution_count": 11,
   "id": "a59e70e1-5faf-4a50-ace0-b8f4cf04afa0",
   "metadata": {},
   "outputs": [
    {
     "name": "stdout",
     "output_type": "stream",
     "text": [
      "===> Loading datasets\n",
      "Total instance number: 285\n",
      "===> Loaded datasets\n",
      "Calculating image quality metrics ...\n",
      "Avg. SSIM: 0.9176592826843262 \n",
      "Avg. PSNR: 28.192514419555664 \n",
      "Avg. L1: 0.017403677105903625 \n",
      "Avg. L2: 0.004863675683736801 \n",
      "\n",
      "285\n",
      "Average processing time for each image (of total 285 images): 0.11927880320632667 s\n"
     ]
    }
   ],
   "source": [
    "!python Inpainting-Evaluation-Metrics/main.py --input_path results/res_partial_conv/test/ --gt_path gt/"
   ]
  },
  {
   "cell_type": "markdown",
   "id": "0adf5c21-c328-494d-b2fc-1df85b06362d",
   "metadata": {},
   "source": [
    "## d) evaluate DeepFillv2"
   ]
  },
  {
   "cell_type": "code",
   "execution_count": 12,
   "id": "f658f147-1099-4924-bd8d-d31007ce33fc",
   "metadata": {
    "scrolled": true
   },
   "outputs": [
    {
     "name": "stdout",
     "output_type": "stream",
     "text": [
      "===> Loading datasets\n",
      "Total instance number: 285\n",
      "===> Loaded datasets\n",
      "Calculating image quality metrics ...\n",
      "Avg. SSIM: 0.92139732837677 \n",
      "Avg. PSNR: 28.26445960998535 \n",
      "Avg. L1: 0.015845324844121933 \n",
      "Avg. L2: 0.004517187364399433 \n",
      "\n",
      "285\n",
      "Average processing time for each image (of total 285 images): 0.12024237900449519 s\n"
     ]
    }
   ],
   "source": [
    "!python Inpainting-Evaluation-Metrics/main.py --input_path results/res_deepfillv2/test/ --gt_path gt/"
   ]
  },
  {
   "cell_type": "markdown",
   "id": "2dd141d8-3e2c-4d4e-8df3-4720f8108a9a",
   "metadata": {},
   "source": [
    "## e) evaluate AOT-GAN"
   ]
  },
  {
   "cell_type": "code",
   "execution_count": 14,
   "id": "73879e4d-b3d1-4070-bdc0-d0ef6c3a958e",
   "metadata": {
    "scrolled": true
   },
   "outputs": [
    {
     "name": "stdout",
     "output_type": "stream",
     "text": [
      "===> Loading datasets\n",
      "Total instance number: 285\n",
      "===> Loaded datasets\n",
      "Calculating image quality metrics ...\n",
      "Avg. SSIM: 0.9290951490402222 \n",
      "Avg. PSNR: 29.73797607421875 \n",
      "Avg. L1: 0.015007317066192627 \n",
      "Avg. L2: 0.0036262930370867252 \n",
      "\n",
      "285\n",
      "Average processing time for each image (of total 285 images): 0.12011552944517973 s\n"
     ]
    }
   ],
   "source": [
    "!python Inpainting-Evaluation-Metrics/main.py --input_path results/res_aot_gan/test/ --gt_path gt/"
   ]
  },
  {
   "cell_type": "markdown",
   "id": "da0aa1d4-b8c6-40f8-a0f4-fca6b73a18c8",
   "metadata": {},
   "source": [
    "## f) evaluate lama"
   ]
  },
  {
   "cell_type": "code",
   "execution_count": 17,
   "id": "7b3f4f57-d117-4f0b-83d0-e797ec05d5ba",
   "metadata": {},
   "outputs": [
    {
     "name": "stdout",
     "output_type": "stream",
     "text": [
      "===> Loading datasets\n",
      "Total instance number: 285\n",
      "===> Loaded datasets\n",
      "Calculating image quality metrics ...\n",
      "Avg. SSIM: 0.8802263140678406 \n",
      "Avg. PSNR: 29.169925689697266 \n",
      "Avg. L1: 0.03078993782401085 \n",
      "Avg. L2: 0.010933710262179375 \n",
      "\n",
      "285\n",
      "Average processing time for each image (of total 285 images): 0.11938141437998989 s\n"
     ]
    }
   ],
   "source": [
    "!python Inpainting-Evaluation-Metrics/main.py --input_path results/res_lama/test/ --gt_path gt/"
   ]
  },
  {
   "cell_type": "markdown",
   "id": "0bdd8eae-1e30-4e2c-bdd0-46c94f6f8454",
   "metadata": {},
   "source": [
    "## g) evaluate stable diffusion for inpainting 1.5 with 10 inference steps"
   ]
  },
  {
   "cell_type": "code",
   "execution_count": 20,
   "id": "ce37d73f-fe8e-4a9a-8761-3a72f761301b",
   "metadata": {},
   "outputs": [
    {
     "name": "stdout",
     "output_type": "stream",
     "text": [
      "===> Loading datasets\n",
      "Total instance number: 285\n",
      "===> Loaded datasets\n",
      "Calculating image quality metrics ...\n",
      "Avg. SSIM: 0.8628937005996704 \n",
      "Avg. PSNR: 23.79867935180664 \n",
      "Avg. L1: 0.04472557082772255 \n",
      "Avg. L2: 0.007943650707602501 \n",
      "\n",
      "285\n",
      "Average processing time for each image (of total 285 images): 0.1200068381794712 s\n"
     ]
    }
   ],
   "source": [
    "!python Inpainting-Evaluation-Metrics/main.py --input_path results/res_sd1510it/test/ --gt_path gt/"
   ]
  },
  {
   "cell_type": "markdown",
   "id": "e0ad316f-3b5a-41b5-a5a7-2528feaaf457",
   "metadata": {},
   "source": [
    "## h) evaluate stable diffusion for inpainting 1.5 with 50 inference steps"
   ]
  },
  {
   "cell_type": "code",
   "execution_count": 22,
   "id": "12f668af-f4d9-46ff-a08f-5ddfac5f1277",
   "metadata": {},
   "outputs": [
    {
     "name": "stdout",
     "output_type": "stream",
     "text": [
      "===> Loading datasets\n",
      "Total instance number: 285\n",
      "===> Loaded datasets\n",
      "Calculating image quality metrics ...\n",
      "Avg. SSIM: 0.8677695393562317 \n",
      "Avg. PSNR: 24.01388168334961 \n",
      "Avg. L1: 0.0429704487323761 \n",
      "Avg. L2: 0.007698822766542435 \n",
      "\n",
      "285\n",
      "Average processing time for each image (of total 285 images): 0.11969305925201952 s\n"
     ]
    }
   ],
   "source": [
    "!python Inpainting-Evaluation-Metrics/main.py --input_path results/res_sd1550it/test/ --gt_path gt/"
   ]
  },
  {
   "cell_type": "markdown",
   "id": "38b91e6a-3890-45a7-b456-6292f7df1aaa",
   "metadata": {},
   "source": [
    "## i) evaluate stable diffusion for inpainting 2.0"
   ]
  },
  {
   "cell_type": "code",
   "execution_count": 24,
   "id": "70f5d02f-4196-4d4a-8326-023ddc84900c",
   "metadata": {},
   "outputs": [
    {
     "name": "stdout",
     "output_type": "stream",
     "text": [
      "===> Loading datasets\n",
      "Total instance number: 285\n",
      "===> Loaded datasets\n",
      "Calculating image quality metrics ...\n",
      "Avg. SSIM: 0.8703352808952332 \n",
      "Avg. PSNR: 24.503154754638672 \n",
      "Avg. L1: 0.03927863389253616 \n",
      "Avg. L2: 0.006988160312175751 \n",
      "\n",
      "285\n",
      "Average processing time for each image (of total 285 images): 0.11966740708602103 s\n"
     ]
    }
   ],
   "source": [
    "!python Inpainting-Evaluation-Metrics/main.py --input_path results/res_sd2/test/ --gt_path gt/"
   ]
  },
  {
   "cell_type": "markdown",
   "id": "b600ce1b-c574-4d15-a2ef-d042f7ced1ab",
   "metadata": {},
   "source": [
    "## j) evaluate stable diffusion for inpainting 2.0 with retrained model"
   ]
  },
  {
   "cell_type": "code",
   "execution_count": 26,
   "id": "2a35f8b7-bc6e-445f-b430-99533809fdaf",
   "metadata": {},
   "outputs": [
    {
     "name": "stdout",
     "output_type": "stream",
     "text": [
      "===> Loading datasets\n",
      "Total instance number: 285\n",
      "===> Loaded datasets\n",
      "Calculating image quality metrics ...\n",
      "Avg. SSIM: 0.8708201050758362 \n",
      "Avg. PSNR: 24.47533416748047 \n",
      "Avg. L1: 0.03939783200621605 \n",
      "Avg. L2: 0.0069665159098804 \n",
      "\n",
      "285\n",
      "Average processing time for each image (of total 285 images): 0.11960696504827131 s\n"
     ]
    }
   ],
   "source": [
    "!python Inpainting-Evaluation-Metrics/main.py --input_path results/res_sd2retrained/test/ --gt_path gt/"
   ]
  },
  {
   "cell_type": "code",
   "execution_count": null,
   "id": "9124ce9c-316d-4558-ad92-ea446a16ad98",
   "metadata": {},
   "outputs": [],
   "source": []
  }
 ],
 "metadata": {
  "kernelspec": {
   "display_name": "Python 3 (ipykernel)",
   "language": "python",
   "name": "python3"
  },
  "language_info": {
   "codemirror_mode": {
    "name": "ipython",
    "version": 3
   },
   "file_extension": ".py",
   "mimetype": "text/x-python",
   "name": "python",
   "nbconvert_exporter": "python",
   "pygments_lexer": "ipython3",
   "version": "3.10.6"
  }
 },
 "nbformat": 4,
 "nbformat_minor": 5
}
